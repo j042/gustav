{
 "cells": [
  {
   "cell_type": "markdown",
   "id": "64e09323",
   "metadata": {},
   "source": [
    "# Splines in Gustaf\n",
    "## The Library\n",
    "### Gustaf\n",
    "> Loyal butler for numerical-analysis-geometry processing \n",
    "Gustaf provides many functionalities for meshing, spline-construction and manipulation and visualisation. With regards to splines, this includes:\n",
    "- Meshing of splines\n",
    "- Visualization of splines\n",
    "- Construction through extrusion and revolutions\n",
    "\n",
    "Gustafs dependencies include `uff` and`splinepy`. It visualizes data using `vedo`.\n",
    "\n",
    "### Splinepy\n",
    "> Python N-dimensional Bezier, Rational Bezier, BSpline and NURBS library with C++ backend \n",
    "It provides all low-level functionality for splines, including\n",
    " - import / export for various formats, such as Irit, XML, iges, JSON and MFEM\n",
    " - Order Elevation\n",
    " - Evaluation\n",
    " - Knot Insertion (NURBS, BSplines)\n",
    " - Derivatives (wip)\n",
    " - Compositions of Bezier-Extracted elements\n",
    " - Multiplication and Addition of Bezier-Extracted elements\n",
    " \n",
    "Splinepy depends on a modified version of `SplineLib`, `Napf` and `Bezman`. Here, `SplineLib` is used for NURBS and BSplines, `Bezman` handles all things Bezier.\n",
    " \n",
    "### Bezman\n",
    "> Lightweight library in C++ to simplify the composition of Bezier-splines \n",
    "\n",
    "Bezman is the `C++` library to provide functionality for the manipulation of Bezier-Splines, including Compositions, Multiplications, and Additions. It also provides functions to facilitate the export of MFEM meshes. Bezman is very templatized, for the purpose of evaluating derivatives and also supports AD-Types, tensors, complex numbers, etc.."
   ]
  },
  {
   "cell_type": "markdown",
   "id": "51cda7e2",
   "metadata": {},
   "source": [
    "## Getting Started\n",
    "### Basics\n"
   ]
  },
  {
   "cell_type": "code",
   "execution_count": 1,
   "id": "sticky-launch",
   "metadata": {},
   "outputs": [],
   "source": [
    "import gustaf as gus\n",
    "import numpy as np"
   ]
  },
  {
   "cell_type": "markdown",
   "id": "1d515b81",
   "metadata": {},
   "source": [
    "All Spline-Types are constructed using (positional or) the following keyword arguments:\n",
    "- `degrees` (list)\n",
    "- `control_points` (list[list] oder `numpy` type)\n",
    "- `knot_vectors` (list[list])\n",
    "- `weights`(list of `numpy`-types)\n",
    "\n",
    "The keywords are used where applicable, i.e.:\n",
    "\n",
    "| | NURBS | BSpline | Bezier | Rational Bezier |\n",
    "| -: | :-: | :-: | :-: | :-: |\n",
    "| `degrees` | X | X | X | X |\n",
    "| `control_points` | X | X | X | X |\n",
    "| `knot_vectors` | X | X | - | - |\n",
    "| `weights` | X | - | - | X |\n",
    "\n",
    "Let's create some splines:"
   ]
  },
  {
   "cell_type": "code",
   "execution_count": 2,
   "id": "expressed-toilet",
   "metadata": {},
   "outputs": [],
   "source": [
    "# Bezier types\n",
    "bezier_line = gus.Bezier(\n",
    "    degrees=[1],\n",
    "    control_points=[[0.,0.],[2,1]]\n",
    ")\n",
    "bezier_surface = gus.Bezier(\n",
    "    degrees=[1,1],\n",
    "    control_points=[[0.,1.],[2,3],[0,2],[2,4]]\n",
    ")\n",
    "\n",
    "# NURBS\n",
    "nurbs_line= gus.NURBS(\n",
    "    degrees=[2],\n",
    "    knot_vectors=[[0,0,0,.5,1,1,1]],\n",
    "    control_points=[[0.,1.], [2,3],[0,2],[2,4]],\n",
    "    weights=[1, .5, .8, 1]\n",
    ")"
   ]
  },
  {
   "cell_type": "markdown",
   "id": "339d6296",
   "metadata": {},
   "source": [
    "They can be visualized using the simple show-command"
   ]
  },
  {
   "cell_type": "code",
   "execution_count": 3,
   "id": "69c07810",
   "metadata": {},
   "outputs": [],
   "source": [
    "bezier_line.show()"
   ]
  },
  {
   "cell_type": "markdown",
   "id": "76a370e3",
   "metadata": {},
   "source": [
    "Or Multiple splines at the same time using"
   ]
  },
  {
   "cell_type": "code",
   "execution_count": 4,
   "id": "33ca7f25",
   "metadata": {},
   "outputs": [],
   "source": [
    "# Beside each other\n",
    "gus.show.show_vedo(bezier_line, bezier_surface, nurbs_line)\n",
    "# In the same window\n",
    "gus.show.show_vedo([bezier_line, bezier_surface, nurbs_line])"
   ]
  },
  {
   "cell_type": "markdown",
   "id": "52894bc6",
   "metadata": {},
   "source": [
    "The transformation into a type with more information is also possible using properties\n",
    "\n",
    "| FROM \\ TO| NURBS | BSpline | Bezier | Rational Bezier |\n",
    "| -: | :-: | :-: | :-: | :-: |\n",
    "| NURBS | X | X | X | X |\n",
    "| BSpline | - | X | X | - |\n",
    "| Bezier | - | - | X | - |\n",
    "| Rational Bezier | - | - | X | X |\n",
    "\n",
    "using"
   ]
  },
  {
   "cell_type": "code",
   "execution_count": 5,
   "id": "8fc1325a",
   "metadata": {},
   "outputs": [],
   "source": [
    "# Change Type\n",
    "nurbs_from_bezier_line = bezier_line.nurbs\n",
    "# Visualize\n",
    "gus.show.show_vedo(nurbs_from_bezier_line, bezier_line)"
   ]
  },
  {
   "cell_type": "markdown",
   "id": "815de0a4",
   "metadata": {},
   "source": [
    "However, Bezier-patches can be extracted using"
   ]
  },
  {
   "cell_type": "code",
   "execution_count": 6,
   "id": "d079eea9",
   "metadata": {},
   "outputs": [],
   "source": [
    "# Extract\n",
    "rational_bezier_list = nurbs_line.extract.beziers()\n",
    "# Show\n",
    "gus.show.show_vedo(rational_bezier_list, nurbs_line)"
   ]
  },
  {
   "cell_type": "markdown",
   "id": "b7b46394",
   "metadata": {},
   "source": [
    "# Refinement strategies\n",
    "Splines can be refined using k and p refinement. In order to do so there are two different functions\n",
    "`elevate_degree(<para_dim>)` and `insert_knots(<para_dim>, <list-of-knots>)`. "
   ]
  },
  {
   "cell_type": "code",
   "execution_count": 7,
   "id": "ea48234d",
   "metadata": {},
   "outputs": [],
   "source": [
    "# Uniform refinement for a nurbs line\n",
    "unique_knots = nurbs_line.unique_knots\n",
    "new_knots = [.5 * (unique_knots[0][i] + unique_knots[0][i-1]) for i in range(1, len(unique_knots[0]))]\n",
    "nurbs_line.insert_knots(0, new_knots)\n",
    "nurbs_line.show()"
   ]
  },
  {
   "cell_type": "code",
   "execution_count": 8,
   "id": "55160a36",
   "metadata": {},
   "outputs": [],
   "source": [
    "# Order elevation\n",
    "nurbs_line.elevate_degree(0)\n",
    "nurbs_line.show()"
   ]
  },
  {
   "cell_type": "markdown",
   "id": "b039402d",
   "metadata": {},
   "source": [
    "### Construction\n",
    "Starting from a spline, it can be used as a basis for construction using either revolutions or extrusions.\n",
    "\n",
    "#### Extrusion"
   ]
  },
  {
   "cell_type": "code",
   "execution_count": 9,
   "id": "200d1170",
   "metadata": {},
   "outputs": [],
   "source": [
    "# Extrude along the vector [1.,0]\n",
    "extruded_surface = bezier_line.create.extruded(extrusion_vector=[1.,0])\n",
    "# Show the result\n",
    "gus.show.show_vedo(extruded_surface, bezier_line)"
   ]
  },
  {
   "cell_type": "markdown",
   "id": "7a8fda8f",
   "metadata": {},
   "source": [
    "#### Revolution"
   ]
  },
  {
   "cell_type": "code",
   "execution_count": 10,
   "id": "64efc0a4",
   "metadata": {},
   "outputs": [
    {
     "name": "stderr",
     "output_type": "stream",
     "text": [
      "WARNING:root:Control Point dimension is smaller than axis dimension, filling with zeros\n",
      "WARNING:root:True revolutions are only possible for rational spline types.\n",
      "Creating Approximation.\n"
     ]
    }
   ],
   "source": [
    "# Revolve along arbitrary axis \n",
    "revolved_surface = extruded_surface.create.revolved(\n",
    "    axis=[1,0,0],\n",
    "    center=[0,-1,0],\n",
    "    angle=85,\n",
    "    degree=True\n",
    ")\n",
    "# Show the result\n",
    "gus.show.show_vedo(revolved_surface)"
   ]
  },
  {
   "cell_type": "markdown",
   "id": "4522e8b9",
   "metadata": {},
   "source": [
    "(This creates a warning because the spline is non-rational)"
   ]
  },
  {
   "cell_type": "code",
   "execution_count": 11,
   "id": "151a11d6",
   "metadata": {},
   "outputs": [
    {
     "name": "stderr",
     "output_type": "stream",
     "text": [
      "WARNING:root:Control Point dimension is smaller than axis dimension, filling with zeros\n",
      "WARNING:root:Control Point dimension is smaller than axis dimension, filling with zeros\n"
     ]
    }
   ],
   "source": [
    "# Revolve along arbitrary axis \n",
    "revolved_surface = extruded_surface.nurbs.create.revolved(\n",
    "    axis=[1,0,0],\n",
    "    center=[0,-1,0],\n",
    "    angle=360,\n",
    "    degree=True\n",
    ")\n",
    "# Show the result\n",
    "gus.show.show_vedo(revolved_surface)\n",
    "\n",
    "# Or refined\n",
    "revolved_surface = extruded_surface.nurbs.create.revolved(\n",
    "    axis=[1,0,0],\n",
    "    center=[0,-1,0],\n",
    "    angle=360,\n",
    "    n_knot_spans=9,\n",
    "    degree=True\n",
    ")\n",
    "# Show the result\n",
    "gus.show.show_vedo(revolved_surface)\n"
   ]
  },
  {
   "cell_type": "markdown",
   "id": "678dd9ca",
   "metadata": {},
   "source": [
    "## Bezier Manipulations\n",
    "For Microstructure construction, this is the most important aspect of gustaf.\n",
    "### Multiplication\n",
    "Multiplication between two splines is possible, as long as the dimensions of the physical space are compatible. Multiplication of two splines $A(t)$ and $B(t)$ results in a new spline $C$\n",
    "\n",
    "$ A(t) * B(t) = C(t) \\quad \\forall t$"
   ]
  },
  {
   "cell_type": "code",
   "execution_count": 12,
   "id": "519fd357",
   "metadata": {},
   "outputs": [
    {
     "name": "stdout",
     "output_type": "stream",
     "text": [
      "degrees:\n",
      "[3]\n",
      "control_points:\n",
      "[[0.         1.        ]\n",
      " [1.         1.33333333]\n",
      " [4.         0.33333333]\n",
      " [3.         0.        ]]\n"
     ]
    }
   ],
   "source": [
    "# Scalar Spline as factor\n",
    "scalar_spline = gus.Bezier(\n",
    "    degrees=[2],\n",
    "    control_points=[[1.],[2],[1]]\n",
    ")\n",
    "# Vector Spline as factor\n",
    "vector_spline = gus.Bezier(\n",
    "    degrees=[1],\n",
    "    control_points=[[0.,1.],[3.,0]]\n",
    ")\n",
    "# Product\n",
    "product = vector_spline * scalar_spline\n",
    "\n",
    "# Check results by evaluating at a random point\n",
    "eval_query = np.random.rand(10)\n",
    "assert np.allclose(\n",
    "    product.evaluate([[eval_query]]), \n",
    "    (vector_spline.evaluate([[eval_query]])\n",
    "     * scalar_spline.evaluate([[eval_query]]))\n",
    "    )\n",
    "\n",
    "# Print out data\n",
    "_ = [[print(a + \":\"),print(b)] for (a,b) in product.todict().items()]"
   ]
  },
  {
   "cell_type": "markdown",
   "id": "d0b8d404",
   "metadata": {},
   "source": [
    "## Addition\n",
    "As for the Multiplication, Addition of two splines $A(t)$ and $B(t)$ results in a new spline $C$\n",
    "\n",
    "$ A(t) + B(t) = C(t) \\quad \\forall t$\n",
    "\n",
    "As long as the addition of the spline types is defined."
   ]
  },
  {
   "cell_type": "code",
   "execution_count": 13,
   "id": "a10a6d97",
   "metadata": {},
   "outputs": [
    {
     "name": "stdout",
     "output_type": "stream",
     "text": [
      "degrees:\n",
      "[2]\n",
      "control_points:\n",
      "[[0. 2.]\n",
      " [3. 1.]\n",
      " [6. 0.]]\n"
     ]
    }
   ],
   "source": [
    "# Vector Spline as factor\n",
    "vector_spline = gus.Bezier(\n",
    "    degrees=[1],\n",
    "    control_points=[[0.,1.],[3.,0]]\n",
    ")\n",
    "\n",
    "# Create a second spline with different orders\n",
    "second_spline = vector_spline.copy()\n",
    "second_spline.elevate_degree(0)\n",
    "\n",
    "# Sum\n",
    "sum_spline = vector_spline + second_spline\n",
    "\n",
    "# Print out data\n",
    "_ = [[print(a + \":\"),print(b)] for (a,b) in sum_spline.todict().items()]\n",
    "\n",
    "# Check results by evuating at a random point\n",
    "eval_query = np.random.rand()\n",
    "assert np.allclose(\n",
    "    sum_spline.evaluate([[eval_query]]), \n",
    "    (vector_spline.evaluate([[eval_query]])\n",
    "     + vector_spline.evaluate([[eval_query]]))\n",
    "    )"
   ]
  },
  {
   "cell_type": "markdown",
   "id": "3d97a797",
   "metadata": {},
   "source": [
    "## Composition\n",
    "Composition is in the center of microstructure construction. The result of functional composition is a new spline fulfilling \n",
    "\n",
    "$ A \\circ B = A(B(t))= C(t) \\quad \\forall t$\n",
    "\n",
    "Here, the parametric dimension of the outer (or deformation function) must match the physical dimension of the inner function."
   ]
  },
  {
   "cell_type": "code",
   "execution_count": 14,
   "id": "db6e31ef",
   "metadata": {},
   "outputs": [],
   "source": [
    "# Inner function (quarter circle)\n",
    "quarter_circle = gus.RationalBezier(\n",
    "    degrees=[2],\n",
    "    control_points=[[1,0],[1,1],[0,1]],\n",
    "    weights=[1,2**-.5,1]\n",
    ")\n",
    "\n",
    "# Outer Function (Rotated Rectangle)\n",
    "rectangle_surface = gus.Bezier(\n",
    "    degrees=[1,1],\n",
    "    control_points=[[.5,0],[1.,.5],[0.,.5],[.5,1.]]\n",
    ")\n",
    "\n",
    "# Product\n",
    "composition = rectangle_surface.compose(quarter_circle)\n",
    "\n",
    "# Show composition\n",
    "gus.show.show_vedo(\n",
    "    quarter_circle,\n",
    "    rectangle_surface,\n",
    "    [rectangle_surface,composition]\n",
    ")"
   ]
  },
  {
   "cell_type": "markdown",
   "id": "67006a91",
   "metadata": {},
   "source": [
    "Or into a 3D surface"
   ]
  },
  {
   "cell_type": "code",
   "execution_count": 15,
   "id": "9d7c3ee0",
   "metadata": {},
   "outputs": [],
   "source": [
    "# Update Outer Function (Rotated Rectangle)\n",
    "rectangle_surface = gus.Bezier(\n",
    "    degrees=[1,1],\n",
    "    control_points=[[.5,0,0],[1.,.5,.2],[0.,.5,.2],[.5,1.,0]]\n",
    ")\n",
    "\n",
    "# Product\n",
    "composition = rectangle_surface.compose(quarter_circle)\n",
    "\n",
    "# Show composition\n",
    "gus.show.show_vedo(\n",
    "    quarter_circle,\n",
    "    rectangle_surface,\n",
    "    [rectangle_surface,composition]\n",
    ")"
   ]
  },
  {
   "cell_type": "code",
   "execution_count": 16,
   "id": "ded41eae",
   "metadata": {},
   "outputs": [
    {
     "name": "stdout",
     "output_type": "stream",
     "text": [
      "True\n"
     ]
    }
   ],
   "source": [
    "# Make sure the composition is correct\n",
    "queries = np.random.rand(10,1)\n",
    "print(\n",
    "    np.allclose(\n",
    "        composition.evaluate(queries),\n",
    "        rectangle_surface.evaluate(quarter_circle.evaluate(queries))\n",
    "    )\n",
    ")"
   ]
  },
  {
   "cell_type": "code",
   "execution_count": 17,
   "id": "2cf6fd92",
   "metadata": {},
   "outputs": [],
   "source": [
    "# Comparison to standard ffd\n",
    "line = gus.Bezier(\n",
    "        degrees=[1],\n",
    "        control_points=[\n",
    "            [0.2, 0.2],\n",
    "            [0.8,0.4]\n",
    "        ])\n",
    "\n",
    "outer_function = gus.Bezier(\n",
    "        degrees=[2,1],\n",
    "        control_points=[\n",
    "            [0., 0.],\n",
    "            [2., 2.],\n",
    "            [4., 0.],\n",
    "            [0., 2.],\n",
    "            [2., 4.],\n",
    "            [4., 2.]\n",
    "        ])\n",
    "\n",
    "ffd_line = line.copy()\n",
    "ffd_line.control_points = outer_function.evaluate(ffd_line.control_points)\n",
    "\n",
    "composed_line = outer_function.compose(line)\n",
    "\n",
    "# Plot results\n",
    "gus.show.show_vedo(\n",
    "    ['Original Line', line],\n",
    "    ['Outer Function', outer_function],\n",
    "    ['FFD Line', [ffd_line, outer_function]],\n",
    "    ['Composed Line', [composed_line, outer_function]]\n",
    ")"
   ]
  },
  {
   "cell_type": "code",
   "execution_count": 18,
   "id": "4fc2a115",
   "metadata": {},
   "outputs": [],
   "source": [
    "# Construct complete Microstructures\n",
    "generator = gus.spline.microstructure.Generator()\n",
    "generator.deformation_function = gus.Bezier(\n",
    "        degrees=[2,1],\n",
    "        control_points=[\n",
    "            [0., 0.],\n",
    "            [2., 2.],\n",
    "            [4., 0.],\n",
    "            [0., 2.],\n",
    "            [2., 4.],\n",
    "            [4., 2.]\n",
    "        ])\n",
    "micro_tile = [\n",
    "        gus.Bezier(\n",
    "                degrees=[3],\n",
    "                control_points=[[0, .5], [.5, 1], [.5, 0], [1, .5]]\n",
    "        ),\n",
    "        gus.Bezier(\n",
    "                degrees=[4],\n",
    "                control_points=[\n",
    "                        [0.5, 0], [0.75, .5], [0.8, .8], [0.25, 0.5], [.5, 1]\n",
    "                ]\n",
    "        )\n",
    "]\n",
    "gus.show.show_vedo(\n",
    "    ['Microtile',micro_tile],\n",
    "    knots=False,\n",
    "    control_points=False\n",
    ")\n",
    "\n",
    "generator.microtile = micro_tile\n",
    "generator.tiling = [8, 8]\n",
    "generator.show(\n",
    "        knots=False, control_points=False, title=\"2D Lattice Microstructure\"\n",
    ")"
   ]
  },
  {
   "cell_type": "code",
   "execution_count": 19,
   "id": "77dad093",
   "metadata": {},
   "outputs": [],
   "source": [
    "# Create a Multipatch system and export it as MFEM\n",
    "rectangle = gus.Bezier(\n",
    "    degrees=[1,1],\n",
    "    control_points=[\n",
    "        [0,0],\n",
    "        [1,0],\n",
    "        [0,1],\n",
    "        [1,1]\n",
    "    ]\n",
    ").bspline\n",
    "\n",
    "# refine\n",
    "for i_pd in range(2):\n",
    "    rectangle.elevate_degree(i_pd)\n",
    "    rectangle.insert_knots(i_pd, [.25,.5,.75])\n",
    "rectangle.show()\n",
    "\n",
    "multi_patch_mesh = rectangle.extract.beziers()\n",
    "\n",
    "# Boundary identifiers\n",
    "def boundary0(x):\n",
    "    return x[:,1] > 0.99\n",
    "def boundary1(x):\n",
    "    return x[:,1] < 0.01\n",
    "\n",
    "# Export in MFEM format\n",
    "gus.spline.io.mfem.export_cartesian(\"test_mesh.mesh\",\n",
    "                            multi_patch_mesh, \n",
    "                            boundary_functions=[\n",
    "                                boundary0,\n",
    "                                boundary1\n",
    "                            ])\n",
    "\n",
    "gus.spline.io.json.export(\n",
    "        fname=\"test_mesh.json\", \n",
    "        spline_list=multi_patch_mesh,\n",
    "        base64encoding=True\n",
    "        )\n",
    "\n",
    "# Meshing and exporting\n",
    "mesh_resolutions = [8, 8]\n",
    "mesh_list = [m.extract.faces(resolutions=mesh_resolutions) \n",
    "        for m in multi_patch_mesh]\n",
    "mesh = gus.Faces.concat(mesh_list)\n",
    "mesh.merge_vertices()\n",
    "# Export here\n",
    "mesh.show()\n"
   ]
  }
 ],
 "metadata": {
  "kernelspec": {
   "display_name": "gus",
   "language": "python",
   "name": "gus"
  },
  "language_info": {
   "codemirror_mode": {
    "name": "ipython",
    "version": 3
   },
   "file_extension": ".py",
   "mimetype": "text/x-python",
   "name": "python",
   "nbconvert_exporter": "python",
   "pygments_lexer": "ipython3",
   "version": "3.9.12"
  }
 },
 "nbformat": 4,
 "nbformat_minor": 5
}
