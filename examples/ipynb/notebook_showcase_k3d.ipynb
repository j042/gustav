{
 "cells": [
  {
   "cell_type": "markdown",
   "metadata": {},
   "source": [
    "# gustaf in Notebook\n",
    "\n",
    "*Attention, please make sure to change the vedo backend to **k3d**.* "
   ]
  },
  {
   "cell_type": "code",
   "execution_count": null,
   "metadata": {},
   "outputs": [],
   "source": [
    "import gustaf as gus\n",
    "import vedo\n",
    "\n",
    "vedo.settings.default_backend = \"k3d\""
   ]
  },
  {
   "cell_type": "markdown",
   "metadata": {},
   "source": [
    "## Show boxes\n",
    "\n",
    "In the first cell, it shows how to activate axes for the plot. For k3d backend, you can pass any number as long as it converts to True as a bool."
   ]
  },
  {
   "cell_type": "code",
   "execution_count": null,
   "metadata": {},
   "outputs": [],
   "source": [
    "mesh_faces_box = gus.create.faces.box(\n",
    "    bounds=[[0, 0], [2, 1]], resolutions=[2, 3]\n",
    ")\n",
    "mesh_faces_box.show_options[\"c\"] = \"hotpink\"\n",
    "a = mesh_faces_box.show(axes=111)"
   ]
  },
  {
   "cell_type": "markdown",
   "metadata": {},
   "source": [
    "Now, 3D:"
   ]
  },
  {
   "cell_type": "code",
   "execution_count": null,
   "metadata": {},
   "outputs": [],
   "source": [
    "mesh_volumes_box = gus.create.volumes.box(\n",
    "    bounds=[[0.0, 0.0, 0.0], [2.0, 1.0, 3.0]], resolutions=[2, 3, 4]\n",
    ")\n",
    "mesh_volumes_box.show()"
   ]
  },
  {
   "cell_type": "markdown",
   "metadata": {},
   "source": [
    "We can also plot 2 things in a single cell next to each other, YAY! This take same `gus.show()` syntax.w"
   ]
  },
  {
   "cell_type": "code",
   "execution_count": null,
   "metadata": {},
   "outputs": [],
   "source": [
    "mesh_faces_triangle = gus.create.faces.box(\n",
    "    bounds=[[0, 0], [1, 5]],\n",
    "    resolutions=[3, 3],\n",
    "    simplex=True,\n",
    ")\n",
    "mesh_faces_triangle.show_options[\"c\"] = \"blue\"\n",
    "\n",
    "mesh_faces_triangle_bs = gus.create.faces.box(\n",
    "    bounds=[[0, 0], [4, 2]],\n",
    "    resolutions=[3, 3],\n",
    "    simplex=True,\n",
    "    backslash=True,\n",
    ")\n",
    "mesh_faces_triangle_bs.show_options[\"c\"] = \"red\"\n",
    "\n",
    "gus.show(\n",
    "    [\"faces-triangle\", mesh_faces_triangle],\n",
    "    [\"faces-triangle-backslash\", mesh_faces_triangle_bs],\n",
    ")"
   ]
  },
  {
   "cell_type": "markdown",
   "metadata": {},
   "source": [
    "Alright that worked nicely. Now do 4 things!"
   ]
  },
  {
   "cell_type": "code",
   "execution_count": null,
   "metadata": {},
   "outputs": [],
   "source": [
    "gus.show(\n",
    "    [\"faces-box\", mesh_faces_box],\n",
    "    [\"volumes-box\", mesh_volumes_box],\n",
    "    [\"faces-triangle\", mesh_faces_triangle],\n",
    "    [\"faces-triangle-backslash\", mesh_faces_triangle_bs],\n",
    ")"
   ]
  },
  {
   "cell_type": "markdown",
   "metadata": {},
   "source": [
    "## `splinepy` plotting examples\n",
    "\n",
    "It is also possible to plot splines through this gustaf extension. Please check out the examples in the [`splinepy`](https://www.github.com/tataratat/splinepy) library."
   ]
  }
 ],
 "metadata": {
  "kernelspec": {
   "display_name": "Python 3 (ipykernel)",
   "language": "python",
   "name": "python3"
  },
  "language_info": {
   "codemirror_mode": {
    "name": "ipython",
    "version": 3
   },
   "file_extension": ".py",
   "mimetype": "text/x-python",
   "name": "python",
   "nbconvert_exporter": "python",
   "pygments_lexer": "ipython3",
   "version": "3.9.13"
  }
 },
 "nbformat": 4,
 "nbformat_minor": 4
}
